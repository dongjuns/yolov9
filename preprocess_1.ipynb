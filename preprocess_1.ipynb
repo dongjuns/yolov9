import os
from glob import glob

# ✅ 경로 설정
input_dir = "/root/workspace/TreeAI/yolov9/tree_data/0_RGB_FullyLabeled/coco/val/labels"     # 원본 .txt 라벨 디렉토리
output_dir = "/root/workspace/TreeAI/yolov9/tree_data/0_RGB_FullyLabeled/coco/val/labels"    # 변경된 라벨 저장 디렉토리
os.makedirs(output_dir, exist_ok=True)

# ✅ 클래스 ID 매핑 (문자열로 비교)
label_remap = {
    "1": "3",  # Picea abies
    "2": "6",  # Pinus sylvestris
    "3": "5"   # Betula sp.
}

# ✅ 파일 처리
label_files = glob(os.path.join(input_dir, "*.txt"))
for file_path in label_files:
    new_lines = []
    with open(file_path, "r") as f:
        for line in f:
            parts = line.strip().split()
            if parts and parts[0] in label_remap:
                parts[0] = label_remap[parts[0]]
            new_lines.append(" ".join(parts))

    # 동일한 파일명으로 저장
    output_path = os.path.join(output_dir, os.path.basename(file_path))
    with open(output_path, "w") as f:
        f.write("\n".join(new_lines))

print(f"✅ Done! {len(label_files)} files processed and saved to:\n{output_dir}")

