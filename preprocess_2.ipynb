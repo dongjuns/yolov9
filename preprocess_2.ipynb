import os
from glob import glob

# main path
base_root = "/root/workspace/TreeAI/yolov9"

# sub directories of tree_data
subdirs = [
    "tree_data/0_RGB_FullyLabeled",
    "tree_data/5_RGB_S_320_pL",
    "tree_data/12_RGB_ObjDet_640_fL",
    "tree_data/34_RGB_ObjDet_640_pL",
    "tree_data/34_RGB_ObjDet_640_pL_b"
]

# train, val
for subdir in subdirs:
    for split in ["train", "val"]:
        label_dir = os.path.join(base_root, subdir, split, "labels")
        if not os.path.exists(label_dir):
            continue

        label_files = glob(os.path.join(label_dir, "*.txt"))
        for file_path in label_files:
            new_lines = []
            with open(file_path, "r") as f:
                for line in f:
                    parts = line.strip().split()
                    if len(parts) >= 5:
                        try:
                            parts[0] = str(int(parts[0]) - 1)  # class_id - 1
                            new_lines.append(" ".join(parts))
                        except ValueError:
                            continue 

            with open(file_path, "w") as f:
                f.write("\n".join(new_lines))

print("✅ class_id -= 1 to the every files")
